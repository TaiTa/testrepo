{
 "cells": [
  {
   "cell_type": "markdown",
   "id": "b8d22855-2647-47e1-a1c3-7910c66eb141",
   "metadata": {},
   "source": [
    "# Data Science Tools and Ecosystem"
   ]
  },
  {
   "cell_type": "markdown",
   "id": "d500c4c3-34a9-4645-b9b7-dd28e2f7c737",
   "metadata": {},
   "source": [
    "In this notebook, Data Science Tools and Ecosystem are summarized."
   ]
  },
  {
   "cell_type": "markdown",
   "id": "8a9e41ab-31a4-4899-b9ac-81353688c8b3",
   "metadata": {},
   "source": [
    "## Author\n",
    "Ta Chieu Tai"
   ]
  },
  {
   "cell_type": "markdown",
   "id": "633eb081-7569-4921-93b8-477d60d1bec0",
   "metadata": {},
   "source": [
    "**Objectives**\n",
    "- List popular languages for Data Science\n",
    "- Data Science Task Categories\n",
    "- List of popular libraries using in Data Science"
   ]
  },
  {
   "cell_type": "markdown",
   "id": "f40fd434-bde4-4aa1-8cbc-edd22bf7fc92",
   "metadata": {},
   "source": [
    "Some of the popular languages that Data Scientists use are:\n",
    "1. Python\n",
    "2. R\n",
    "3. SQL"
   ]
  },
  {
   "cell_type": "markdown",
   "id": "535d401c-2d67-49d1-b1ce-7cdf4472ee8e",
   "metadata": {},
   "source": [
    "Some of the commonly used libraries used by Data Scientists include:\n",
    "1. Pandas\n",
    "2. Numpy\n",
    "3. Seaborn"
   ]
  },
  {
   "cell_type": "markdown",
   "id": "18daa9b7-9699-475b-a5d6-266d5c3d85aa",
   "metadata": {},
   "source": [
    "|Data Science Tools|\n",
    "|------------------|\n",
    "|Jupyter Notebook|\n",
    "|Jupyter Lab|\n",
    "|RStudio|"
   ]
  },
  {
   "cell_type": "markdown",
   "id": "6daf5dcc-e4de-4fd4-a59c-c35e4eeb78c3",
   "metadata": {},
   "source": [
    "### Below are a few examples of evaluating arithmetic expressions in Python"
   ]
  },
  {
   "cell_type": "code",
   "execution_count": 3,
   "id": "d3a47b20-9f50-4945-ae7a-30eb365ce868",
   "metadata": {},
   "outputs": [
    {
     "data": {
      "text/plain": [
       "17"
      ]
     },
     "execution_count": 3,
     "metadata": {},
     "output_type": "execute_result"
    }
   ],
   "source": [
    "(3*4)+5\n",
    "#This a simple arithmetic expression to mutiply then add integers"
   ]
  },
  {
   "cell_type": "code",
   "execution_count": 10,
   "id": "2ad2e758-9139-4531-9186-831b9454cb9b",
   "metadata": {},
   "outputs": [
    {
     "name": "stdout",
     "output_type": "stream",
     "text": [
      "200 minutes = 3.3333333333333335 hours\n"
     ]
    }
   ],
   "source": [
    "#This will convert 200 minutes to hours by diving by 60\n",
    "minute = 200\n",
    "hour = minute/60\n",
    "print('200 minutes =',hour,'hours')"
   ]
  },
  {
   "cell_type": "code",
   "execution_count": null,
   "id": "314e8738-6cb4-4cf1-9e35-651cf525c619",
   "metadata": {},
   "outputs": [],
   "source": []
  }
 ],
 "metadata": {
  "kernelspec": {
   "display_name": "Python 3 (ipykernel)",
   "language": "python",
   "name": "python3"
  },
  "language_info": {
   "codemirror_mode": {
    "name": "ipython",
    "version": 3
   },
   "file_extension": ".py",
   "mimetype": "text/x-python",
   "name": "python",
   "nbconvert_exporter": "python",
   "pygments_lexer": "ipython3",
   "version": "3.12.8"
  }
 },
 "nbformat": 4,
 "nbformat_minor": 5
}
